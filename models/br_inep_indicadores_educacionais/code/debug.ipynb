{
 "cells": [
  {
   "cell_type": "code",
   "execution_count": 3,
   "metadata": {},
   "outputs": [],
   "source": [
    "import pandas as pd\n",
    "import zipfile\n",
    "from zipfile import ZipFile\n",
    "import os\n",
    "from constants import constants"
   ]
  },
  {
   "cell_type": "markdown",
   "metadata": {},
   "source": [
    "## Download"
   ]
  },
  {
   "cell_type": "code",
   "execution_count": 11,
   "metadata": {},
   "outputs": [],
   "source": [
    "def unzip_file(zip_path, extract_to):\n",
    "    print(f\"Extracting data from the file {os.path.basename(zip_path)}\")\n",
    "\n",
    "    try:\n",
    "        with zipfile.ZipFile(zip_path) as z:\n",
    "            z.extractall(extract_to)\n",
    "        print(\"Data extracted successfully!\")\n",
    "    except zipfile.BadZipFile:\n",
    "        print(f\"The file {os.path.basename(zip_path)} is not a valid ZIP file.\")\n",
    "    except zipfile.LargeZipFile:\n",
    "        print(f\"The ZIP file {os.path.basename(zip_path)} is too large to be processed.\")"
   ]
  },
  {
   "cell_type": "code",
   "execution_count": 26,
   "metadata": {},
   "outputs": [
    {
     "data": {
      "text/plain": [
       "['DSU_2022_MUNICIPIOS.zip',\n",
       " 'TDI_2022_MUNICIPIOS.zip',\n",
       " 'IED_2022_MUNICIPIOS.zip',\n",
       " 'ATU_2022_MUNICIPIOS.zip',\n",
       " 'HAD_2022_MUNICIPIOS.zip',\n",
       " 'IRD_2022_MUNICIPIOS.zip',\n",
       " 'ICG_2022_MUNICIPIOS.zip',\n",
       " 'AFD_2022_MUNICIPIOS.zip']"
      ]
     },
     "execution_count": 26,
     "metadata": {},
     "output_type": "execute_result"
    }
   ],
   "source": [
    "[x for x in os.listdir(\"./\") if x.endswith(\".zip\")]"
   ]
  },
  {
   "cell_type": "code",
   "execution_count": 30,
   "metadata": {},
   "outputs": [
    {
     "name": "stdout",
     "output_type": "stream",
     "text": [
      "Extracting data from the file DSU_2022_MUNICIPIOS.zip\n",
      "Data extracted successfully!\n",
      "Extracting data from the file TDI_2022_MUNICIPIOS.zip\n",
      "Data extracted successfully!\n",
      "Extracting data from the file IED_2022_MUNICIPIOS.zip\n",
      "Data extracted successfully!\n",
      "Extracting data from the file ATU_2022_MUNICIPIOS.zip\n",
      "Data extracted successfully!\n",
      "Extracting data from the file HAD_2022_MUNICIPIOS.zip\n",
      "Data extracted successfully!\n",
      "Extracting data from the file IRD_2022_MUNICIPIOS.zip\n",
      "Data extracted successfully!\n",
      "Extracting data from the file ICG_2022_MUNICIPIOS.zip\n",
      "Data extracted successfully!\n",
      "Extracting data from the file AFD_2022_MUNICIPIOS.zip\n",
      "Data extracted successfully!\n"
     ]
    }
   ],
   "source": [
    "for file in [x for x in os.listdir(\"./\") if x.endswith(\".zip\")]:\n",
    "    unzip_file(f\"/Users/apple/Documents/queries-basedosdados-dev/models/br_inep_indicadores_educacionais/code/{file}\",\n",
    "    f\"/Users/apple/Documents/queries-basedosdados-dev/models/br_inep_indicadores_educacionais/code/{file.split('.zip')[0]}/\")"
   ]
  },
  {
   "cell_type": "markdown",
   "metadata": {},
   "source": [
    "## Files"
   ]
  },
  {
   "cell_type": "code",
   "execution_count": 16,
   "metadata": {},
   "outputs": [
    {
     "name": "stdout",
     "output_type": "stream",
     "text": [
      "Número de linhas da tabela afd >>> 67118\n",
      "Número de linhas após o dropna(): 67117\n",
      "NA's excluídos: 1\n",
      "Número de linhas da tabela atu >>> 66515\n",
      "Número de linhas após o dropna(): 66515\n",
      "NA's excluídos: 0\n",
      "Número de linhas da tabela dsu >>> 67301\n",
      "Número de linhas após o dropna(): 67301\n",
      "NA's excluídos: 0\n",
      "Número de linhas da tabela had >>> 66509\n",
      "Número de linhas após o dropna(): 66509\n",
      "NA's excluídos: 0\n",
      "Número de linhas da tabela icg >>> 67303\n",
      "Número de linhas após o dropna(): 67303\n",
      "NA's excluídos: 0\n",
      "Número de linhas da tabela ied >>> 66266\n",
      "Número de linhas após o dropna(): 66266\n",
      "NA's excluídos: 0\n",
      "Número de linhas da tabela ird >>> 66845\n",
      "Número de linhas após o dropna(): 66845\n",
      "NA's excluídos: 0\n",
      "Número de linhas da tabela tdi >>> 65548\n",
      "Número de linhas após o dropna(): 65548\n",
      "NA's excluídos: 0\n"
     ]
    }
   ],
   "source": [
    "tables = [\"afd\", \"atu\", \"dsu\", \"had\", \"icg\", \"ied\", \"ird\", \"tdi\"]\n",
    "for table in tables:\n",
    "    if table == \"afd\":\n",
    "        df = pd.read_excel(\"/Users/apple/Documents/queries-basedosdados-dev/models/br_inep_indicadores_educacionais/code/AFD_2022_MUNICIPIOS/AFD_2022_MUNICIPIOS/AFD_MUNICIPIOS_2022.xlsx\", skiprows=10, dtype=str)\n",
    "        size = df.drop(range(67118, 67123)).__len__()\n",
    "    elif table == \"atu\":\n",
    "        df = pd.read_excel(\"/Users/apple/Documents/queries-basedosdados-dev/models/br_inep_indicadores_educacionais/code/ATU_2022_MUNICIPIOS/ATU_2022_MUNICIPIOS/ATU_MUNICIPIOS_2022.xlsx\", skiprows=8, dtype=str)\n",
    "        size = df.drop(range(66515, 66518)).__len__()\n",
    "    elif table == \"dsu\":\n",
    "        df = pd.read_excel(\"/Users/apple/Documents/queries-basedosdados-dev/models/br_inep_indicadores_educacionais/code/DSU_2022_MUNICIPIOS/DSU_2022_MUNICIPIOS/DSU_MUNICIPIOS_2022.xlsx\", skiprows=9, dtype=str)\n",
    "        size = df.drop(range(67301, 67303) ).__len__()\n",
    "    elif table == \"had\":\n",
    "        df = pd.read_excel(\"/Users/apple/Documents/queries-basedosdados-dev/models/br_inep_indicadores_educacionais/code/HAD_2022_MUNICIPIOS/HAD_2022_MUNICIPIOS/HAD_MUNICIPIOS_2022.xlsx\", skiprows=8, dtype=str)\n",
    "        size = df.drop(range(66509, 66512) ).__len__()\n",
    "    elif table == \"icg\":\n",
    "        df = pd.read_excel(\"/Users/apple/Documents/queries-basedosdados-dev/models/br_inep_indicadores_educacionais/code/ICG_2022_MUNICIPIOS/ICG_2022_MUNICIPIOS/ICG_MUNICIPIOS_2022.xlsx\", skiprows=8, dtype=str)\n",
    "        size = df.drop(range(67303, 67308) ).__len__()  \n",
    "    elif table == \"ied\":\n",
    "        df = pd.read_excel(\"/Users/apple/Documents/queries-basedosdados-dev/models/br_inep_indicadores_educacionais/code/IED_2022_MUNICIPIOS/IED_2022_MUNICIPIOS/IED_MUNICIPIOS_2022.xlsx\", skiprows=10, dtype=str)\n",
    "        size = df.drop(range(66266, 66271) ).__len__()\n",
    "    elif table == \"ird\":\n",
    "        df = pd.read_excel(\"/Users/apple/Documents/queries-basedosdados-dev/models/br_inep_indicadores_educacionais/code/IRD_2022_MUNICIPIOS/IRD_2022_MUNICIPIOS/IRD_MUNICIPIOS_2022.xlsx\", skiprows=9, dtype=str)\n",
    "        size = df.drop(range(66845, 66850) ).__len__()\n",
    "    elif table == \"tdi\":\n",
    "        df = pd.read_excel(\"/Users/apple/Documents/queries-basedosdados-dev/models/br_inep_indicadores_educacionais/code/TDI_2022_MUNICIPIOS/TDI_2022_MUNICIPIOS/TDI_MUNICIPIOS_2022.xlsx\", skiprows=8, dtype=str)\n",
    "        size = df.drop(range(65548, 65550) ).__len__()\n",
    "\n",
    "    size_after = df.dropna(subset=['CO_MUNICIPIO']).__len__()\n",
    "    del df\n",
    "    print(f\"Número de linhas da tabela {table} >>> {size}\")  \n",
    "    print(f'Número de linhas após o dropna(): {size_after}') \n",
    "    print(f\"NA's excluídos: {size -  size_after}\")\n",
    "        \n",
    "        \n"
   ]
  }
 ],
 "metadata": {
  "kernelspec": {
   "display_name": "Python 3.9.13 ('venv-dbt': venv)",
   "language": "python",
   "name": "python3"
  },
  "language_info": {
   "codemirror_mode": {
    "name": "ipython",
    "version": 3
   },
   "file_extension": ".py",
   "mimetype": "text/x-python",
   "name": "python",
   "nbconvert_exporter": "python",
   "pygments_lexer": "ipython3",
   "version": "3.9.13"
  },
  "orig_nbformat": 4,
  "vscode": {
   "interpreter": {
    "hash": "a22ba135588e949b99821a9e5ebddaae15c53a72a44e31d85cb1a209aa66e9ad"
   }
  }
 },
 "nbformat": 4,
 "nbformat_minor": 2
}
