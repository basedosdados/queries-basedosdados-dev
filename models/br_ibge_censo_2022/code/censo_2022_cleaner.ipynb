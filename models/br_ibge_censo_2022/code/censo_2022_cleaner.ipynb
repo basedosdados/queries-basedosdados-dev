{
 "cells": [
  {
   "cell_type": "code",
   "execution_count": 1,
   "metadata": {},
   "outputs": [],
   "source": [
    "import pandas as pd\n",
    "import os\n",
    "from janitor import clean_names, remove_empty\n",
    "from tqdm import tqdm\n"
   ]
  },
  {
   "cell_type": "code",
   "execution_count": 113,
   "metadata": {},
   "outputs": [
    {
     "name": "stderr",
     "output_type": "stream",
     "text": [
      "100%|██████████| 14/14 [00:01<00:00, 11.91it/s]\n"
     ]
    }
   ],
   "source": [
    "for i in tqdm(os.listdir(\"/tmp/data/br_ibge_censo_2022/output/\")):\n",
    "    path = \"/tmp/data/br_ibge_censo_2022/output/\"\n",
    "    df = pd.read_csv(f\"{path}{i}\", sep=\";\")\n",
    "    df.to_csv(f\"{path}{i}\", index=None)"
   ]
  },
  {
   "cell_type": "markdown",
   "metadata": {},
   "source": [
    "# 1"
   ]
  },
  {
   "cell_type": "code",
   "execution_count": null,
   "metadata": {},
   "outputs": [],
   "source": [
    "links = [\n",
    "    \"https://docs.google.com/spreadsheets/d/12yfzuAOv5LhEXTQMtRgRC-myJYnvCzkg/edit?usp=sharing&ouid=103222913060268158773&rtpof=true&sd=true\",\n",
    "    \"https://docs.google.com/spreadsheets/d/1HWQMWOrPImwMf4BqsS7YqhUQnXtk34Jb/edit?usp=sharing&ouid=103222913060268158773&rtpof=true&sd=true\",\n",
    "    \"https://docs.google.com/spreadsheets/d/1Ki_5SjwFsf_FgRWF2H75ciYAhCiyUA2nJKRUlvpft0E/edit?usp=sharing\",\n",
    "    \"https://docs.google.com/spreadsheets/d/1L1sea6AhbTxmD1Wp1xWcGXhr9xvIoSNJ/edit?usp=sharing&ouid=103222913060268158773&rtpof=true&sd=true\",\n",
    "    \"https://docs.google.com/spreadsheets/d/1TOT8wxP56bdSoMjg5j61kMHB82-j94dfsDRxEYcDGIc/edit?usp=sharing\",\n",
    "    \"https://docs.google.com/spreadsheets/d/1U2T7A6C8C_4yNw_fbdDsK0K1V95Et8w-/edit?usp=sharing&ouid=103222913060268158773&rtpof=true&sd=true\",\n",
    "    \"https://docs.google.com/spreadsheets/d/1XI5dWJTG-U6OqsL-2WgpEgIBQ5tMe_Z_/edit?usp=sharing&ouid=103222913060268158773&rtpof=true&sd=true\",\n",
    "    \"https://docs.google.com/spreadsheets/d/1_CYbEtxU2bRA5wrjQb6ir5DyW98kJopY/edit?usp=sharing&ouid=103222913060268158773&rtpof=true&sd=true\",\n",
    "    \"https://docs.google.com/spreadsheets/d/1_MPl6eDvTTCG7mIHfJNiR5NeIUYc7EDG/edit?usp=sharing&ouid=103222913060268158773&rtpof=true&sd=true\",\n",
    "    \"https://docs.google.com/spreadsheets/d/1aUwcMVDfzRFrdfFxD2WFjANQpBHM6AyU/edit?usp=sharing&ouid=103222913060268158773&rtpof=true&sd=true\",\n",
    "    \"https://docs.google.com/spreadsheets/d/1c2ohROKBpoErgyMxEbn99tBGMK0N3Tuo/edit?usp=sharing&ouid=103222913060268158773&rtpof=true&sd=true\",\n",
    "    \"https://docs.google.com/spreadsheets/d/1c46VSHU54Lxgp1TxxKkzupEnY0fXU84W/edit?usp=sharing&ouid=103222913060268158773&rtpof=true&sd=true\",\n",
    "    \"https://docs.google.com/spreadsheets/d/1dUWfl6q_81FDFnW5aD1VFkPYoA1-pdVj/edit?usp=sharing&ouid=103222913060268158773&rtpof=true&sd=true\",\n",
    "    \"https://docs.google.com/spreadsheets/d/1kCJO7t_LePUptJ4gfuksQa9QItvsN8q_/edit?usp=sharing&ouid=103222913060268158773&rtpof=true&sd=true\",\n",
    "    \"https://docs.google.com/spreadsheets/d/1muZ4_-j2vSwI92jEu5FKawSGZP31Mf1R/edit?usp=sharing&ouid=103222913060268158773&rtpof=true&sd=true\",\n",
    "    \"https://docs.google.com/spreadsheets/d/1sRSF1FmltHtlTiyJAcQUUYc3as9iIC3P/edit?usp=sharing&ouid=103222913060268158773&rtpof=true&sd=true\",\n",
    "    \"https://docs.google.com/spreadsheets/d/1srTOD9JF6gREr5x9-LATfxuL1yu8whEo/edit?usp=sharing&ouid=103222913060268158773&rtpof=true&sd=true\",\n",
    "    \"https://docs.google.com/spreadsheets/d/1yV_OP_Hpc51mj7rze5TkC_DR8-bKoZzR/edit?usp=sharing&ouid=103222913060268158773&rtpof=true&sd=true\"\n",
    "]\n",
    "\n",
    "tabelas = [\n",
    "    \"quilombolas_domicilios_moradores_municipio\",\n",
    "    \"populacao_residente_territorios_quilombolas\",\n",
    "    \"domicilios_pelo_menos_um_territorios_quilombolas\",\n",
    "    \"quilombolas_populacao_residente_municipio\",\n",
    "    \"domicilios_moradores_territorios_quilombolas\",\n",
    "    \"domicilios_pelo_menos_um_moradores_terras_indigenas\",\n",
    "    \"populacao_residente_municipio\",\n",
    "    \"area_territorial_densidade_demografica_municipio\",\n",
    "    \"domicilios_moradores_municipio\",\n",
    "    \"indice_envelhecimento_municipio\",\n",
    "    \"domicilios_recenseados_especie_municipio\",\n",
    "    \"indigenas_domicilios_moradores_municipio\",\n",
    "    \"populacao_grupos_idade_uf\",\n",
    "    \"quilombolas_domicilios_pelo_menos_um_morador_municipio\",\n",
    "    \"populacao_residente_terras_indigenas\",\n",
    "    \"domicilios_moradores_terras_indigenas\",\n",
    "    \"indigenas_domicilios_pelo_menos_um_morador_municipio\",\n",
    "    \"indigenas_populacao_residente_municipio\"  \n",
    "]\n",
    "\n",
    "# Imprimir a lista formatada\n",
    "for link in links:\n",
    "    print(link)\n"
   ]
  },
  {
   "cell_type": "code",
   "execution_count": 23,
   "metadata": {},
   "outputs": [
    {
     "data": {
      "text/plain": [
       "['domicilios_pelo_menos_um_morador_quilombola.csv',\n",
       " 'populacao_grupos_idade.csv',\n",
       " 'domicilios_pelo_menos_um_morador_indigenas_municipio.csv',\n",
       " 'populacao_residente_territorios_quilombolas.csv',\n",
       " 'domicilios_moradores_indigenas_municipio.csv',\n",
       " 'quilombolas_populacao_residente_municipio.csv',\n",
       " 'domicilios_pelo_menos_um_territorios_quilombolas.csv',\n",
       " 'domicilios_pelo_menos_um_moradores_terras_indigenas.csv',\n",
       " 'populacao_residente_terras_indigenas.csv',\n",
       " 'populacao_residente_indigena_municipio.csv',\n",
       " 'domicilios_recenseados_especie.csv',\n",
       " 'domicilios_moradores_quilombolas.csv',\n",
       " 'domicilios_moradores_terras_indigenas.csv',\n",
       " 'area_territorial_densidade_demografica.csv',\n",
       " 'domicilios_moradores.csv',\n",
       " 'indice_envelhecimento.csv',\n",
       " 'domicilios_moradores_territorios_quilombolas.csv']"
      ]
     },
     "execution_count": 23,
     "metadata": {},
     "output_type": "execute_result"
    }
   ],
   "source": [
    "os.listdir(\"/tmp/data/br_ibge_censo_2022/output/\")"
   ]
  },
  {
   "cell_type": "code",
   "execution_count": 22,
   "metadata": {},
   "outputs": [],
   "source": [
    "df = pd.read_csv(\"/tmp/data/br_ibge_censo_2022/input/quilombolas_populacao_residente_municipio.csv\")\n",
    "df = df.pivot(index=['Município', 'Localização do domicílio','Ano'], columns='Variável')\n",
    "df = df['Valor'].reset_index()\n",
    "df = clean_names(df)\n",
    "df\n",
    "df.to_csv(\"/tmp/data/br_ibge_censo_2022/output/quilombolas_populacao_residente_municipio.csv\", index=None)"
   ]
  },
  {
   "cell_type": "code",
   "execution_count": null,
   "metadata": {},
   "outputs": [],
   "source": [
    "df = pd.read_csv(\"/tmp/data/br_ibge_censo_2022/input/area_territorial_densidade_demografica.csv\")\n",
    "df = df.pivot(index=['Município', 'Ano'], columns='Variável')\n",
    "df = df['Valor'].reset_index()\n",
    "df = clean_names(df)\n",
    "df"
   ]
  },
  {
   "cell_type": "code",
   "execution_count": 20,
   "metadata": {},
   "outputs": [],
   "source": [
    "df.to_csv(\"teste.csv\", index=None, sep=\";\")"
   ]
  },
  {
   "cell_type": "code",
   "execution_count": null,
   "metadata": {},
   "outputs": [],
   "source": []
  }
 ],
 "metadata": {
  "kernelspec": {
   "display_name": "Python 3.9.13 ('venv-dbt': venv)",
   "language": "python",
   "name": "python3"
  },
  "language_info": {
   "codemirror_mode": {
    "name": "ipython",
    "version": 3
   },
   "file_extension": ".py",
   "mimetype": "text/x-python",
   "name": "python",
   "nbconvert_exporter": "python",
   "pygments_lexer": "ipython3",
   "version": "3.9.13"
  },
  "orig_nbformat": 4,
  "vscode": {
   "interpreter": {
    "hash": "a22ba135588e949b99821a9e5ebddaae15c53a72a44e31d85cb1a209aa66e9ad"
   }
  }
 },
 "nbformat": 4,
 "nbformat_minor": 2
}
